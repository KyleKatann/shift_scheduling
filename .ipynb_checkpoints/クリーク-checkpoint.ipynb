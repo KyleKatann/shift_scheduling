{
 "cells": [
  {
   "cell_type": "code",
   "execution_count": 1,
   "metadata": {},
   "outputs": [],
   "source": [
    "import glob\n",
    "import plotly.figure_factory as ff\n",
    "import plotly.offline as pof\n",
    "import datetime\n",
    "import random"
   ]
  },
  {
   "cell_type": "code",
   "execution_count": 2,
   "metadata": {},
   "outputs": [],
   "source": [
    "#スケジューリングするまえのjob\n",
    "def drawrawwork(jobs):\n",
    "    dt1 = datetime.datetime.now()\n",
    "    pof.init_notebook_mode(connected=False)\n",
    "    df = []\n",
    "    c=0\n",
    "    for s,e in jobs:\n",
    "        df.append( dict(Task=c, Start=dt1 + datetime.timedelta(minutes=s), Finish=dt1 + datetime.timedelta(minutes=e), Resource='job') )\n",
    "        c+=1\n",
    "\n",
    "    colors = dict(job = 'rgb(198, 47, 105)')\n",
    "\n",
    "\n",
    "    fig = ff.create_gantt(df, colors=colors, index_col='Resource', title='job Schedule',\n",
    "                          show_colorbar=True, bar_width=0.1, showgrid_x=True, showgrid_y=True)\n",
    "\n",
    "    # Jupyter Notebookで表示する場合\n",
    "    pof.iplot(fig, filename='gantt-hours-minutes')"
   ]
  },
  {
   "cell_type": "code",
   "execution_count": 8,
   "metadata": {
    "scrolled": false
   },
   "outputs": [],
   "source": [
    "from gurobipy import*\n",
    "\n",
    "def opt(jobs,qualifications):\n",
    "\n",
    "    # x worker work 作業員をどの仕事に入れるか、0である場合もある\n",
    "    # 仕事同士は被るかもしれない\n",
    "    # y worker 作業員を取った変数を用意して、y worker=max(x worker for worker in workers)\n",
    "\n",
    "    #  クリーク列挙\n",
    "    imos=[[]for i in range(max(max(j)for j in jobs)+1)]\n",
    "    for i in range(len(jobs)):\n",
    "        start,end=jobs[i]\n",
    "        for j in range(start,end-1):\n",
    "            imos[j].append(i)\n",
    "    semicliques=[set(tp) for tp in set(map(tuple,[i for i in imos if i]))]\n",
    "    cliques=[]\n",
    "    for semiclique1 in semicliques:\n",
    "        for semiclique2 in semicliques:\n",
    "        #ある一つのsemiqliqueが他のsemiqliqueの部分集合ならばそれはいらない\n",
    "            semiclique1<=semiclique2\n",
    "        cliques.append(semiclique1)\n",
    "    djob={}\n",
    "    for job in range(len(jobs)):\n",
    "        for clique in cliques:\n",
    "            if job in clique:\n",
    "                if job in djob:\n",
    "                    djob[job].append(clique)\n",
    "                else:\n",
    "                    djob[job]=[clique]\n",
    "    \n",
    "\n"
   ]
  },
  {
   "cell_type": "code",
   "execution_count": 9,
   "metadata": {
    "scrolled": false
   },
   "outputs": [
    {
     "name": "stdout",
     "output_type": "stream",
     "text": [
      "1 23 40 66\n",
      "[{33, 34, 4, 36, 37, 38, 39, 13, 16, 17, 22, 23, 24, 25, 26, 27, 29, 31}, {0, 1, 2, 32, 5, 6, 7, 8, 9, 10, 12, 14, 15, 18, 19, 20, 21, 30}, {32, 1, 3, 5, 6, 7, 8, 9, 10, 11, 12, 15, 21, 28, 30}, {4, 13, 16, 17, 22, 23, 24, 25, 26, 27, 28, 29, 31, 33, 34, 35, 36, 37, 39}, {0, 2, 5, 6, 9, 12, 14, 15, 18, 19, 20, 30}, {32, 1, 2, 3, 5, 6, 7, 8, 9, 10, 11, 12, 15, 21, 28, 30}, {1, 33, 3, 35, 8, 10, 11, 21, 22, 28, 30}, {1, 33, 34, 35, 37, 8, 10, 11, 21, 22, 25, 28, 30}, {0, 1, 2, 3, 5, 6, 7, 8, 9, 10, 11, 12, 14, 15, 18, 19, 20, 21, 30, 32}, {1, 3, 35, 7, 8, 9, 10, 11, 21, 22, 28, 30}, {32, 1, 3, 5, 7, 8, 9, 10, 11, 21, 28, 30}, {18, 19, 6, 14}, {0, 2, 5, 6, 8, 9, 12, 14, 15, 18, 19, 20, 30}, {0, 1, 2, 32, 5, 6, 8, 9, 12, 14, 15, 18, 19, 20, 30}, {32, 1, 2, 3, 5, 6, 7, 8, 9, 10, 11, 12, 15, 18, 19, 21, 30}, {1, 3, 35, 7, 8, 10, 11, 21, 22, 28, 30}, {33, 34, 35, 36, 37, 10, 11, 16, 22, 23, 25, 26, 28, 31}, {4, 13, 16, 17, 22, 23, 24, 25, 26, 27, 29, 31, 33, 34, 35, 36, 37, 38, 39}, {33, 34, 35, 36, 37, 10, 11, 13, 16, 22, 23, 25, 26, 28, 31}, {0, 2, 5, 6, 12, 14, 15, 18, 19, 20}, {1, 33, 35, 8, 10, 11, 21, 22, 25, 28, 30}, {4, 37, 38, 39, 16, 17, 25, 27, 29}, {33, 34, 35, 37, 8, 10, 11, 21, 22, 23, 25, 28}, {1, 2, 3, 5, 6, 7, 8, 9, 10, 11, 12, 14, 15, 18, 19, 20, 21, 30, 32}, {18, 19, 6}, {4, 37, 38, 16, 25, 27, 29}, {32, 1, 3, 35, 7, 8, 9, 10, 11, 21, 28, 30}, {32, 1, 3, 5, 7, 8, 9, 10, 11, 15, 21, 28, 30}, {33, 34, 35, 36, 37, 13, 16, 17, 22, 23, 24, 25, 26, 27, 28, 29, 31}, {0, 1, 2, 32, 5, 6, 7, 8, 9, 12, 14, 15, 18, 19, 20, 30}, {32, 1, 2, 3, 5, 6, 7, 8, 9, 10, 11, 12, 14, 15, 18, 19, 21, 30}, {32, 1, 3, 5, 7, 8, 9, 10, 11, 12, 15, 21, 28, 30}, {1, 33, 35, 37, 8, 10, 11, 21, 22, 25, 28, 30}, {4, 37, 38, 39, 16, 17, 24, 25, 26, 27, 29}, {33, 34, 4, 36, 37, 38, 39, 13, 16, 17, 22, 24, 25, 26, 27, 29}, {4, 13, 16, 17, 22, 23, 24, 25, 26, 27, 28, 29, 31, 33, 34, 35, 36, 37, 38, 39}, {32, 1, 2, 3, 5, 6, 7, 8, 9, 10, 11, 12, 15, 19, 21, 30}, {33, 34, 35, 36, 37, 13, 16, 17, 22, 23, 25, 26, 27, 28, 29, 31}, {0, 6, 14, 15, 18, 19, 20}, {4, 37, 38, 39, 16, 17, 24, 25, 27, 29}, {4, 37, 38, 16, 17, 25, 27, 29}, {33, 34, 4, 36, 37, 38, 39, 13, 16, 17, 24, 25, 26, 27, 29}, {0, 2, 5, 6, 14, 15, 18, 19, 20}, {33, 34, 35, 36, 37, 8, 10, 11, 16, 22, 23, 25, 26, 28}, {27, 37, 38}, {32, 1, 2, 3, 5, 6, 7, 8, 9, 10, 11, 12, 15, 21, 30}, {0, 2, 6, 14, 15, 18, 19, 20}, {33, 34, 35, 36, 37, 8, 10, 11, 22, 23, 25, 28}, {33, 34, 4, 36, 37, 38, 39, 13, 16, 17, 22, 24, 25, 26, 27, 29, 31}, {0, 6, 14, 18, 19, 20}, {1, 3, 35, 7, 8, 9, 10, 11, 21, 28, 30}, {27, 4, 37, 38}, {33, 34, 35, 36, 37, 11, 13, 16, 22, 23, 25, 26, 28, 31}, {34, 4, 37, 38, 39, 13, 16, 17, 24, 25, 26, 27, 29}, {4, 37, 38, 16, 25, 27}, {27}, {33, 34, 35, 36, 37, 8, 10, 11, 16, 22, 23, 25, 28}, {0, 1, 2, 32, 5, 6, 7, 8, 9, 12, 14, 15, 18, 19, 20, 21, 30}, {27, 38}, {33, 34, 35, 36, 37, 11, 13, 16, 17, 22, 23, 25, 26, 28, 29, 31}, {4, 37, 38, 16, 27}, {0, 2, 5, 6, 9, 12, 14, 15, 18, 19, 20}, {33, 34, 35, 36, 37, 8, 10, 11, 21, 22, 23, 25, 28}, {6}, {6, 14, 18, 19, 20}, {32, 1, 3, 7, 8, 9, 10, 11, 21, 28, 30}, {1, 33, 35, 8, 10, 11, 21, 22, 28, 30}, {1, 33, 34, 35, 37, 8, 10, 11, 21, 22, 23, 25, 28}, {0, 32, 2, 5, 6, 8, 9, 12, 14, 15, 18, 19, 20, 30}, {33, 34, 35, 36, 37, 13, 16, 17, 22, 23, 25, 26, 28, 29, 31}, {0, 1, 2, 3, 5, 6, 7, 8, 9, 10, 12, 14, 15, 18, 19, 20, 21, 30, 32}, {33, 34, 35, 4, 36, 37, 13, 16, 17, 22, 23, 24, 25, 26, 27, 28, 29, 31}]\n",
      "#####################################################################################################################\n"
     ]
    }
   ],
   "source": [
    "import time\n",
    "l=[]\n",
    "for filename in glob.glob(\"./ptask/data_1_23_40_66.dat\"):\n",
    "    start=time.time()\n",
    "    _,filenumber,number_of_workers,number_of_jobs,multi_skilling_level=filename.replace(\".dat\",\"\").split(\"_\")\n",
    "    filenumber,number_of_workers,number_of_jobs,multi_skilling_level=map(int,[filenumber,number_of_workers,number_of_jobs,multi_skilling_level])\n",
    "    print(filenumber,number_of_workers,number_of_jobs,multi_skilling_level)\n",
    "    \n",
    "    file=open(filename).readlines()[5:]\n",
    "    jobs=[tuple(map(int,line.split())) for line in file[:number_of_jobs]]\n",
    "    qualifications=[tuple(map(int,line.replace(\":\",\"\").split()))[1:] for line in file[number_of_jobs+1:]]\n",
    "    \n",
    "    qualifications={\"作業員\"+str(k):set(v) for k,v in enumerate(qualifications)}\n",
    "    \n",
    "    opt(jobs,qualifications)\n",
    "\n",
    "    end=time.time()\n",
    "    print(\"#####################################################################################################################\")\n"
   ]
  }
 ],
 "metadata": {
  "kernelspec": {
   "display_name": "Python 3",
   "language": "python",
   "name": "python3"
  },
  "language_info": {
   "codemirror_mode": {
    "name": "ipython",
    "version": 3
   },
   "file_extension": ".py",
   "mimetype": "text/x-python",
   "name": "python",
   "nbconvert_exporter": "python",
   "pygments_lexer": "ipython3",
   "version": "3.7.4"
  }
 },
 "nbformat": 4,
 "nbformat_minor": 2
}
